{
  "nbformat": 4,
  "nbformat_minor": 0,
  "metadata": {
    "colab": {
      "name": "pythonbenkyou.ipynb",
      "provenance": [],
      "collapsed_sections": [],
      "authorship_tag": "ABX9TyN4WG8t3bRR8HYA2lDLX2xL",
      "include_colab_link": true
    },
    "kernelspec": {
      "name": "python3",
      "display_name": "Python 3"
    }
  },
  "cells": [
    {
      "cell_type": "markdown",
      "metadata": {
        "id": "view-in-github",
        "colab_type": "text"
      },
      "source": [
        "<a href=\"https://colab.research.google.com/github/p72/mypython/blob/master/pythonbenkyou.ipynb\" target=\"_parent\"><img src=\"https://colab.research.google.com/assets/colab-badge.svg\" alt=\"Open In Colab\"/></a>"
      ]
    },
    {
      "cell_type": "code",
      "metadata": {
        "id": "KvIm1iA9sgsi",
        "colab_type": "code",
        "outputId": "252b112b-873f-4b88-c369-2e2a071c886e",
        "colab": {
          "base_uri": "https://localhost:8080/",
          "height": 125
        }
      },
      "source": [
        "#入門　勉強メモ\n",
        "print (5/2)\n",
        "print (\"hello \\\"222\\\" eee\")\n",
        "\n",
        "print ( \"\"\" 三重引用符を\n",
        "使うと\n",
        "改行できます。\"\"\")\n",
        "\n",
        "#インデックスの使い方\n",
        "word = \"python\"\n",
        "print (word[0],word[1:3],word[-1])"
      ],
      "execution_count": 4,
      "outputs": [
        {
          "output_type": "stream",
          "text": [
            "2.5\n",
            "hello \"222\" eee\n",
            " 三重引用符を\n",
            "使うと\n",
            "改行できます。\n",
            "p yt n\n"
          ],
          "name": "stdout"
        }
      ]
    }
  ]
}